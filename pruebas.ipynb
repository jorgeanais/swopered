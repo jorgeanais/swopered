{
 "cells": [
  {
   "cell_type": "code",
   "execution_count": 6,
   "metadata": {},
   "outputs": [],
   "source": [
    "import astropy.io.fits as fits\n",
    "from pathlib import Path\n",
    "from astropy.table import Table"
   ]
  },
  {
   "cell_type": "code",
   "execution_count": 4,
   "metadata": {},
   "outputs": [],
   "source": [
    "data_dir = Path(\"/home/jorge/Documents/data/ut230813_14\")"
   ]
  },
  {
   "cell_type": "code",
   "execution_count": 20,
   "metadata": {},
   "outputs": [],
   "source": [
    "for fits_file in sorted(data_dir.glob(\"*.fits\")):\n",
    "    with fits.open(fits_file) as hdul:\n",
    "            hdu = hdul[0]\n",
    "            header = hdu.header\n",
    "    \n",
    "    data = {\n",
    "            \"file\": header[\"FILENAME\"],\n",
    "            \"quadrant\": header[\"FILENAME\"],\n",
    "            \"exptype\": header[\"EXPTYPE\"],\n",
    "            \"object\": header[\"OBJECT\"],\n",
    "            \"exptime\": header[\"EXPTIME\"],\n",
    "            \"filter\": header[\"FILTER\"],\n",
    "            \"ra\": header[\"RA\"],\n",
    "            \"ra_d\": header[\"RA-D\"],\n",
    "            \"dec\": header[\"DEC\"],\n",
    "            \"dec_d\": header[\"DEC-D\"],\n",
    "            \"equinox\": header[\"EQUINOX\"],\n",
    "            \"telfocus\": header[\"TELFOCUS\"],\n",
    "            \"airmass\": header[\"AIRMASS\"],\n",
    "            \"ut_date\": header[\"UT-DATE\"],\n",
    "            \"ut_time\": header[\"UT-TIME\"],\n",
    "            \"ut_end\": header[\"UT-END\"],\n",
    "            \"path\": str(fits_file),\n",
    "        }"
   ]
  },
  {
   "cell_type": "code",
   "execution_count": 21,
   "metadata": {},
   "outputs": [
    {
     "data": {
      "text/plain": [
       "{'filename': 'ccd3161c4',\n",
       " 'exptype': 'Flat',\n",
       " 'object': 'flat',\n",
       " 'exptime': 15.0,\n",
       " 'filter': 'u',\n",
       " 'ra': ' 02:11:44.9',\n",
       " 'ra_d': 32.937125,\n",
       " 'dec': '-30:24:39.9',\n",
       " 'dec_d': -30.4110944,\n",
       " 'equinox': 2000.0,\n",
       " 'telfocus': 23403,\n",
       " 'airmass': 1.065,\n",
       " 'ut_date': '2023-08-14',\n",
       " 'ut_time': '10:57:59',\n",
       " 'ut_end': '10:58:14',\n",
       " 'path': '/home/jorge/Documents/data/ut230813_14/ccd3161c4.fits'}"
      ]
     },
     "execution_count": 21,
     "metadata": {},
     "output_type": "execute_result"
    }
   ],
   "source": [
    "data"
   ]
  },
  {
   "cell_type": "code",
   "execution_count": null,
   "metadata": {},
   "outputs": [],
   "source": []
  }
 ],
 "metadata": {
  "kernelspec": {
   "display_name": "cpsplines",
   "language": "python",
   "name": "python3"
  },
  "language_info": {
   "codemirror_mode": {
    "name": "ipython",
    "version": 3
   },
   "file_extension": ".py",
   "mimetype": "text/x-python",
   "name": "python",
   "nbconvert_exporter": "python",
   "pygments_lexer": "ipython3",
   "version": "3.11.4"
  },
  "orig_nbformat": 4
 },
 "nbformat": 4,
 "nbformat_minor": 2
}
